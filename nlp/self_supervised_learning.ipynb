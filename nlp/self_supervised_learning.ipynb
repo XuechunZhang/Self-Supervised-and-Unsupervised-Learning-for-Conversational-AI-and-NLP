{
 "cells": [
  {
   "cell_type": "code",
   "execution_count": 3,
   "metadata": {},
   "outputs": [],
   "source": [
    "from transformers import pipeline\n",
    "\n",
    "from transformers import AutoTokenizer, AutoModelForSeq2SeqLM"
   ]
  },
  {
   "cell_type": "code",
   "execution_count": 2,
   "metadata": {},
   "outputs": [
    {
     "name": "stderr",
     "output_type": "stream",
     "text": [
      "Downloading: 100%|██████████| 1.15k/1.15k [00:00<00:00, 376kB/s]\n",
      "Downloading: 100%|██████████| 1.63G/1.63G [04:10<00:00, 6.51MB/s]\n",
      "Downloading: 100%|██████████| 899k/899k [00:00<00:00, 1.45MB/s]\n",
      "Downloading: 100%|██████████| 456k/456k [00:00<00:00, 872kB/s] \n",
      "Downloading: 100%|██████████| 1.36M/1.36M [00:01<00:00, 1.24MB/s]\n",
      "Downloading: 100%|██████████| 26.0/26.0 [00:00<00:00, 9.26kB/s]\n"
     ]
    }
   ],
   "source": [
    "zeroshot_classifier = pipeline(\"zero-shot-classification\",\n",
    "                      model=\"facebook/bart-large-mnli\")"
   ]
  },
  {
   "cell_type": "code",
   "execution_count": 4,
   "metadata": {},
   "outputs": [
    {
     "data": {
      "text/plain": [
       "{'sequence': 'one day I will see the world',\n",
       " 'labels': ['travel', 'dancing', 'cooking'],\n",
       " 'scores': [0.9938651323318481, 0.003273765789344907, 0.002861053217202425]}"
      ]
     },
     "execution_count": 4,
     "metadata": {},
     "output_type": "execute_result"
    }
   ],
   "source": [
    "sequence_to_classify = \"one day I will see the world\"\n",
    "candidate_labels = ['travel', 'cooking', 'dancing']\n",
    "zeroshot_classifier(sequence_to_classify, candidate_labels)"
   ]
  },
  {
   "cell_type": "code",
   "execution_count": 6,
   "metadata": {},
   "outputs": [
    {
     "name": "stderr",
     "output_type": "stream",
     "text": [
      "Downloading: 100%|██████████| 632/632 [00:00<00:00, 255kB/s]\n",
      "Downloading: 100%|██████████| 792k/792k [00:00<00:00, 2.53MB/s]\n",
      "Downloading: 100%|██████████| 1.79k/1.79k [00:00<00:00, 705kB/s]\n",
      "Downloading: 100%|██████████| 1.86k/1.86k [00:00<00:00, 531kB/s]\n"
     ]
    }
   ],
   "source": [
    "tokenizer = AutoTokenizer.from_pretrained(\"bigscience/T0_3B\")\n",
    "fewshot_model = AutoModelForSeq2SeqLM.from_pretrained(\"bigscience/T0_3B\")\n",
    "\n"
   ]
  },
  {
   "cell_type": "code",
   "execution_count": null,
   "metadata": {},
   "outputs": [],
   "source": [
    "inputs = tokenizer.encode(\"Is this review positive or negative? Review: this is the best cast iron skillet you will ever buy\", return_tensors=\"pt\")\n",
    "outputs = fewshot_model.generate(inputs)\n",
    "print(tokenizer.decode(outputs[0]))"
   ]
  },
  {
   "cell_type": "code",
   "execution_count": null,
   "metadata": {},
   "outputs": [],
   "source": [
    "sentence_similarity_example = \"Sentence 1: Gyorgy Heizler, head of the local disaster unit, said the coach was carrying 38 passengers. Sentence 2: The head of the local disaster unit, Gyorgy Heizler, said the bus was full except for 38 empty seats. Do sentences 1 and 2 have the same meaning?\"\n",
    "inputs = tokenizer.encode(sentence_similarity_example, return_tensors=\"pt\")\n",
    "outputs = fewshot_model.generate(inputs)\n",
    "print(tokenizer.decode(outputs[0]))"
   ]
  },
  {
   "cell_type": "code",
   "execution_count": null,
   "metadata": {},
   "outputs": [],
   "source": []
  }
 ],
 "metadata": {
  "interpreter": {
   "hash": "fa610e202b599434543001857fb995f2dd9279c3bb58d43e8462aaa41fbaa56e"
  },
  "kernelspec": {
   "display_name": "Python 3.7.11 ('pfd')",
   "language": "python",
   "name": "python3"
  },
  "language_info": {
   "codemirror_mode": {
    "name": "ipython",
    "version": 3
   },
   "file_extension": ".py",
   "mimetype": "text/x-python",
   "name": "python",
   "nbconvert_exporter": "python",
   "pygments_lexer": "ipython3",
   "version": "3.7.11"
  },
  "orig_nbformat": 4
 },
 "nbformat": 4,
 "nbformat_minor": 2
}
