{
 "cells": [
  {
   "cell_type": "code",
   "execution_count": 16,
   "metadata": {},
   "outputs": [
    {
     "name": "stdout",
     "output_type": "stream",
     "text": [
      "(-0.162225, 'negative')\n"
     ]
    }
   ],
   "source": [
    "from vaderSentiment.vaderSentiment import SentimentIntensityAnalyzer\n",
    "import numpy as np\n",
    "\n",
    "class ConversationSentiment:\n",
    "    def __init__(self, orange_thresh=0.2, red_thresh=0, min_turns_for_negative=2):\n",
    "        self.sentiment_analyzer = SentimentIntensityAnalyzer()\n",
    "        self.orange_thresh = orange_thresh\n",
    "        self.red_thresh = red_thresh\n",
    "        self.min_turns_for_negative = min_turns_for_negative\n",
    "\n",
    "    def get_conversation_sentiment_score_and_status(self, utterance_list):\n",
    "        scores = []\n",
    "        for utt in utterance_list:\n",
    "            score = self.sentiment_analyzer.polarity_scores(utt)['compound']\n",
    "            scores.append(score)\n",
    "        \n",
    "        conv_sentiment = np.mean(scores)\n",
    "        status = \"positive\"\n",
    "        if conv_sentiment < self.orange_thresh:\n",
    "            status = \"neutral\"\n",
    "        if conv_sentiment < self.red_thresh and len(utterance_list) > \\\n",
    "            self.min_turns_for_negative:\n",
    "            status = \"negative\"\n",
    "\n",
    "        return conv_sentiment, status\n",
    "        \n",
    "    \n",
    "conv_sentiment_analyzer = ConversationSentiment()\n",
    "\n",
    "utt = [\"hello\", \"this bot is stupid\", \"this is frustrating\", \"can you please route me to an agent?\"]\n",
    "\n",
    "print(conv_sentiment_analyzer.get_conversation_sentiment_score_and_status(utt))"
   ]
  },
  {
   "cell_type": "code",
   "execution_count": null,
   "metadata": {},
   "outputs": [],
   "source": [
    "_"
   ]
  }
 ],
 "metadata": {
  "kernelspec": {
   "display_name": "Python 3",
   "language": "python",
   "name": "python3"
  },
  "language_info": {
   "codemirror_mode": {
    "name": "ipython",
    "version": 3
   },
   "file_extension": ".py",
   "mimetype": "text/x-python",
   "name": "python",
   "nbconvert_exporter": "python",
   "pygments_lexer": "ipython3",
   "version": "3.7.2"
  }
 },
 "nbformat": 4,
 "nbformat_minor": 2
}
